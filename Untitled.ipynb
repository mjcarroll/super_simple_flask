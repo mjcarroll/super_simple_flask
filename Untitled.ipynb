{
 "cells": [
  {
   "cell_type": "code",
   "execution_count": 1,
   "metadata": {},
   "outputs": [],
   "source": [
    "import pandas as pd"
   ]
  },
  {
   "cell_type": "code",
   "execution_count": 3,
   "metadata": {},
   "outputs": [],
   "source": [
    "df = pd.read_csv('./launches.csv')"
   ]
  },
  {
   "cell_type": "code",
   "execution_count": 6,
   "metadata": {},
   "outputs": [
    {
     "data": {
      "text/html": [
       "<div>\n",
       "<style scoped>\n",
       "    .dataframe tbody tr th:only-of-type {\n",
       "        vertical-align: middle;\n",
       "    }\n",
       "\n",
       "    .dataframe tbody tr th {\n",
       "        vertical-align: top;\n",
       "    }\n",
       "\n",
       "    .dataframe thead th {\n",
       "        text-align: right;\n",
       "    }\n",
       "</style>\n",
       "<table border=\"1\" class=\"dataframe\">\n",
       "  <thead>\n",
       "    <tr style=\"text-align: right;\">\n",
       "      <th></th>\n",
       "      <th>Company</th>\n",
       "      <th>Mission Name</th>\n",
       "      <th>Location</th>\n",
       "      <th>Date</th>\n",
       "    </tr>\n",
       "  </thead>\n",
       "  <tbody>\n",
       "    <tr>\n",
       "      <th>0</th>\n",
       "      <td>NASA</td>\n",
       "      <td>Hubble1</td>\n",
       "      <td>Cape Canaveral</td>\n",
       "      <td>2010</td>\n",
       "    </tr>\n",
       "    <tr>\n",
       "      <th>1</th>\n",
       "      <td>NASA</td>\n",
       "      <td>Hubble2</td>\n",
       "      <td>Cape Canaveral</td>\n",
       "      <td>2010</td>\n",
       "    </tr>\n",
       "    <tr>\n",
       "      <th>2</th>\n",
       "      <td>NASA</td>\n",
       "      <td>Hubble3</td>\n",
       "      <td>Cape Canaveral</td>\n",
       "      <td>2010</td>\n",
       "    </tr>\n",
       "    <tr>\n",
       "      <th>3</th>\n",
       "      <td>NASA</td>\n",
       "      <td>Hubble4</td>\n",
       "      <td>Cape Canaveral</td>\n",
       "      <td>2010</td>\n",
       "    </tr>\n",
       "    <tr>\n",
       "      <th>4</th>\n",
       "      <td>ESA</td>\n",
       "      <td>ISS1</td>\n",
       "      <td>Wollops Island</td>\n",
       "      <td>2011</td>\n",
       "    </tr>\n",
       "    <tr>\n",
       "      <th>5</th>\n",
       "      <td>ESA</td>\n",
       "      <td>ISS2</td>\n",
       "      <td>Wollops Island</td>\n",
       "      <td>2012</td>\n",
       "    </tr>\n",
       "    <tr>\n",
       "      <th>6</th>\n",
       "      <td>ESA</td>\n",
       "      <td>ISS3</td>\n",
       "      <td>Wollops Island</td>\n",
       "      <td>2013</td>\n",
       "    </tr>\n",
       "    <tr>\n",
       "      <th>7</th>\n",
       "      <td>ESA</td>\n",
       "      <td>ISS4</td>\n",
       "      <td>Wollops Island</td>\n",
       "      <td>2014</td>\n",
       "    </tr>\n",
       "  </tbody>\n",
       "</table>\n",
       "</div>"
      ],
      "text/plain": [
       "  Company Mission Name        Location  Date\n",
       "0    NASA      Hubble1  Cape Canaveral  2010\n",
       "1    NASA      Hubble2  Cape Canaveral  2010\n",
       "2    NASA      Hubble3  Cape Canaveral  2010\n",
       "3    NASA      Hubble4  Cape Canaveral  2010\n",
       "4     ESA         ISS1  Wollops Island  2011\n",
       "5     ESA         ISS2  Wollops Island  2012\n",
       "6     ESA         ISS3  Wollops Island  2013\n",
       "7     ESA         ISS4  Wollops Island  2014"
      ]
     },
     "execution_count": 6,
     "metadata": {},
     "output_type": "execute_result"
    }
   ],
   "source": [
    "df"
   ]
  },
  {
   "cell_type": "code",
   "execution_count": 5,
   "metadata": {},
   "outputs": [
    {
     "data": {
      "text/html": [
       "<div>\n",
       "<style scoped>\n",
       "    .dataframe tbody tr th:only-of-type {\n",
       "        vertical-align: middle;\n",
       "    }\n",
       "\n",
       "    .dataframe tbody tr th {\n",
       "        vertical-align: top;\n",
       "    }\n",
       "\n",
       "    .dataframe thead th {\n",
       "        text-align: right;\n",
       "    }\n",
       "</style>\n",
       "<table border=\"1\" class=\"dataframe\">\n",
       "  <thead>\n",
       "    <tr style=\"text-align: right;\">\n",
       "      <th></th>\n",
       "      <th>Company</th>\n",
       "      <th>Mission Name</th>\n",
       "      <th>Location</th>\n",
       "      <th>Date</th>\n",
       "    </tr>\n",
       "  </thead>\n",
       "  <tbody>\n",
       "    <tr>\n",
       "      <th>0</th>\n",
       "      <td>NASA</td>\n",
       "      <td>Hubble1</td>\n",
       "      <td>Cape Canaveral</td>\n",
       "      <td>2010</td>\n",
       "    </tr>\n",
       "    <tr>\n",
       "      <th>1</th>\n",
       "      <td>NASA</td>\n",
       "      <td>Hubble2</td>\n",
       "      <td>Cape Canaveral</td>\n",
       "      <td>2010</td>\n",
       "    </tr>\n",
       "    <tr>\n",
       "      <th>2</th>\n",
       "      <td>NASA</td>\n",
       "      <td>Hubble3</td>\n",
       "      <td>Cape Canaveral</td>\n",
       "      <td>2010</td>\n",
       "    </tr>\n",
       "    <tr>\n",
       "      <th>3</th>\n",
       "      <td>NASA</td>\n",
       "      <td>Hubble4</td>\n",
       "      <td>Cape Canaveral</td>\n",
       "      <td>2010</td>\n",
       "    </tr>\n",
       "  </tbody>\n",
       "</table>\n",
       "</div>"
      ],
      "text/plain": [
       "  Company Mission Name        Location  Date\n",
       "0    NASA      Hubble1  Cape Canaveral  2010\n",
       "1    NASA      Hubble2  Cape Canaveral  2010\n",
       "2    NASA      Hubble3  Cape Canaveral  2010\n",
       "3    NASA      Hubble4  Cape Canaveral  2010"
      ]
     },
     "execution_count": 5,
     "metadata": {},
     "output_type": "execute_result"
    }
   ],
   "source": [
    "df[df['Company'] == 'NASA']"
   ]
  },
  {
   "cell_type": "code",
   "execution_count": 8,
   "metadata": {},
   "outputs": [
    {
     "data": {
      "text/plain": [
       "[('ESA',   Company Mission Name        Location  Date\n",
       "  4     ESA         ISS1  Wollops Island  2011\n",
       "  5     ESA         ISS2  Wollops Island  2012\n",
       "  6     ESA         ISS3  Wollops Island  2013\n",
       "  7     ESA         ISS4  Wollops Island  2014),\n",
       " ('NASA',   Company Mission Name        Location  Date\n",
       "  0    NASA      Hubble1  Cape Canaveral  2010\n",
       "  1    NASA      Hubble2  Cape Canaveral  2010\n",
       "  2    NASA      Hubble3  Cape Canaveral  2010\n",
       "  3    NASA      Hubble4  Cape Canaveral  2010)]"
      ]
     },
     "execution_count": 8,
     "metadata": {},
     "output_type": "execute_result"
    }
   ],
   "source": [
    "list(df.groupby('Company'))"
   ]
  },
  {
   "cell_type": "code",
   "execution_count": 11,
   "metadata": {},
   "outputs": [
    {
     "data": {
      "text/html": [
       "<div>\n",
       "<style scoped>\n",
       "    .dataframe tbody tr th:only-of-type {\n",
       "        vertical-align: middle;\n",
       "    }\n",
       "\n",
       "    .dataframe tbody tr th {\n",
       "        vertical-align: top;\n",
       "    }\n",
       "\n",
       "    .dataframe thead th {\n",
       "        text-align: right;\n",
       "    }\n",
       "</style>\n",
       "<table border=\"1\" class=\"dataframe\">\n",
       "  <thead>\n",
       "    <tr style=\"text-align: right;\">\n",
       "      <th></th>\n",
       "      <th>Company</th>\n",
       "      <th>Mission Name</th>\n",
       "      <th>Location</th>\n",
       "      <th>Date</th>\n",
       "    </tr>\n",
       "  </thead>\n",
       "  <tbody>\n",
       "    <tr>\n",
       "      <th>7</th>\n",
       "      <td>ESA</td>\n",
       "      <td>ISS4</td>\n",
       "      <td>Wollops Island</td>\n",
       "      <td>2014</td>\n",
       "    </tr>\n",
       "    <tr>\n",
       "      <th>6</th>\n",
       "      <td>ESA</td>\n",
       "      <td>ISS3</td>\n",
       "      <td>Wollops Island</td>\n",
       "      <td>2013</td>\n",
       "    </tr>\n",
       "    <tr>\n",
       "      <th>5</th>\n",
       "      <td>ESA</td>\n",
       "      <td>ISS2</td>\n",
       "      <td>Wollops Island</td>\n",
       "      <td>2012</td>\n",
       "    </tr>\n",
       "    <tr>\n",
       "      <th>4</th>\n",
       "      <td>ESA</td>\n",
       "      <td>ISS1</td>\n",
       "      <td>Wollops Island</td>\n",
       "      <td>2011</td>\n",
       "    </tr>\n",
       "    <tr>\n",
       "      <th>0</th>\n",
       "      <td>NASA</td>\n",
       "      <td>Hubble1</td>\n",
       "      <td>Cape Canaveral</td>\n",
       "      <td>2010</td>\n",
       "    </tr>\n",
       "    <tr>\n",
       "      <th>1</th>\n",
       "      <td>NASA</td>\n",
       "      <td>Hubble2</td>\n",
       "      <td>Cape Canaveral</td>\n",
       "      <td>2010</td>\n",
       "    </tr>\n",
       "    <tr>\n",
       "      <th>2</th>\n",
       "      <td>NASA</td>\n",
       "      <td>Hubble3</td>\n",
       "      <td>Cape Canaveral</td>\n",
       "      <td>2010</td>\n",
       "    </tr>\n",
       "    <tr>\n",
       "      <th>3</th>\n",
       "      <td>NASA</td>\n",
       "      <td>Hubble4</td>\n",
       "      <td>Cape Canaveral</td>\n",
       "      <td>2010</td>\n",
       "    </tr>\n",
       "  </tbody>\n",
       "</table>\n",
       "</div>"
      ],
      "text/plain": [
       "  Company Mission Name        Location  Date\n",
       "7     ESA         ISS4  Wollops Island  2014\n",
       "6     ESA         ISS3  Wollops Island  2013\n",
       "5     ESA         ISS2  Wollops Island  2012\n",
       "4     ESA         ISS1  Wollops Island  2011\n",
       "0    NASA      Hubble1  Cape Canaveral  2010\n",
       "1    NASA      Hubble2  Cape Canaveral  2010\n",
       "2    NASA      Hubble3  Cape Canaveral  2010\n",
       "3    NASA      Hubble4  Cape Canaveral  2010"
      ]
     },
     "execution_count": 11,
     "metadata": {},
     "output_type": "execute_result"
    }
   ],
   "source": [
    "df.sort_values('Date', ascending=False)"
   ]
  },
  {
   "cell_type": "code",
   "execution_count": null,
   "metadata": {},
   "outputs": [],
   "source": []
  }
 ],
 "metadata": {
  "kernelspec": {
   "display_name": "Python 3",
   "language": "python",
   "name": "python3"
  },
  "language_info": {
   "codemirror_mode": {
    "name": "ipython",
    "version": 3
   },
   "file_extension": ".py",
   "mimetype": "text/x-python",
   "name": "python",
   "nbconvert_exporter": "python",
   "pygments_lexer": "ipython3",
   "version": "3.6.6"
  }
 },
 "nbformat": 4,
 "nbformat_minor": 2
}
